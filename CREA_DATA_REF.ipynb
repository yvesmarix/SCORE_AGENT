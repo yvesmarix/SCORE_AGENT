{
 "cells": [
  {
   "cell_type": "code",
   "execution_count": null,
   "metadata": {
    "vscode": {
     "languageId": "plaintext"
    }
   },
   "outputs": [],
   "source": [
    "import pandas as pd\n",
    "import numpy as np\n",
    "import openpyxl\n",
    "import os\n",
    "import glob\n",
    "from google.cloud import bigquery\n",
    "\n",
    "# On configure la connexion à big query\n",
    "client=bigquery.Client()\n",
    "table_id='prj-prd-app4349-sc-exso.bqd_db_datalab_sc.ysa_referentiel_ans_aui'\n",
    "\n",
    "data_ref=pd.DataFrame()\n",
    "\n",
    "file_path=r'C:/Users/u261457/Documents/BASE_REF_BARBAR'\n",
    "fichiers_csv=glob.glob(file_path +'/*.csv')\n",
    "\n",
    "for fichier in fichiers_csv:\n",
    "    df_tempo=pd.read_csv(fichier,delimiter=';',encoding_errors='replace',encoding='utf-8', on_bad_lines='skip')\n",
    "    # data_ref=pd.concat([data_ref,df_tempo], axis=0,ignore_index=True)\n",
    "    errors=client.insert_rows_json(table_id,df_tempo.to_dict(orient='records'))\n",
    "    if errors:\n",
    "        print(f\"Encountered errors while inserting rows: {errors}\")\n",
    "    else:\n",
    "        print(f\"Inserted {len(df_tempo)} rows into {table_id}\")\n",
    "\n",
    "print(data_ref.head(100))\n"
   ]
  }
 ],
 "metadata": {
  "language_info": {
   "name": "python"
  }
 },
 "nbformat": 4,
 "nbformat_minor": 2
}
